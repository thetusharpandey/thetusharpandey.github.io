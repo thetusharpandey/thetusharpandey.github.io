{
 "cells": [
  {
   "cell_type": "code",
   "execution_count": null,
   "metadata": {
    "colab": {
     "base_uri": "https://localhost:8080/"
    },
    "id": "uBfKZKBenqxB",
    "outputId": "2d4a8dfc-c54d-4a95-e135-65be2835f743"
   },
   "outputs": [
    {
     "name": "stdout",
     "output_type": "stream",
     "text": [
      "/content\n"
     ]
    }
   ],
   "source": [
    "!pwd"
   ]
  },
  {
   "cell_type": "code",
   "execution_count": null,
   "metadata": {
    "colab": {
     "base_uri": "https://localhost:8080/"
    },
    "id": "rVpKZjksiHaJ",
    "outputId": "c92b8dfe-186b-4583-c875-3c295b672a1e"
   },
   "outputs": [
    {
     "name": "stdout",
     "output_type": "stream",
     "text": [
      "drive  sample_data\n"
     ]
    }
   ],
   "source": [
    "!ls"
   ]
  },
  {
   "cell_type": "code",
   "execution_count": null,
   "metadata": {
    "id": "qKjB_GeXgeFy"
   },
   "outputs": [],
   "source": [
    "#!cd ~/"
   ]
  },
  {
   "cell_type": "code",
   "execution_count": null,
   "metadata": {
    "id": "-sjfafDTiKnO"
   },
   "outputs": [],
   "source": [
    "#!cd drive/MyDrive/Colab\\ Notebooks"
   ]
  },
  {
   "cell_type": "code",
   "execution_count": 1,
   "metadata": {
    "colab": {
     "base_uri": "https://localhost:8080/"
    },
    "id": "aAbFAMcAoW5j",
    "outputId": "d7d3ac37-2c1a-48e0-e86a-1194f9e7dcf6"
   },
   "outputs": [
    {
     "name": "stdout",
     "output_type": "stream",
     "text": [
      "Requirement already satisfied: nsetools in /usr/local/lib/python3.9/site-packages (1.0.11)\n",
      "Requirement already satisfied: dateutils in /usr/local/lib/python3.9/site-packages (from nsetools) (0.6.12)\n",
      "Requirement already satisfied: six in /usr/local/lib/python3.9/site-packages (from nsetools) (1.15.0)\n",
      "Requirement already satisfied: pytz in /usr/local/lib/python3.9/site-packages (from dateutils->nsetools) (2021.1)\n",
      "Requirement already satisfied: python-dateutil in /usr/local/lib/python3.9/site-packages (from dateutils->nsetools) (2.8.1)\n",
      "\u001b[33mWARNING: You are using pip version 21.0; however, version 21.0.1 is available.\n",
      "You should consider upgrading via the '/usr/local/opt/python@3.9/bin/python3.9 -m pip install --upgrade pip' command.\u001b[0m\n",
      "Requirement already satisfied: yfinance in /usr/local/lib/python3.9/site-packages (0.1.55)\n",
      "Requirement already satisfied: numpy>=1.15 in /usr/local/lib/python3.9/site-packages (from yfinance) (1.20.1)\n",
      "Requirement already satisfied: lxml>=4.5.1 in /usr/local/lib/python3.9/site-packages (from yfinance) (4.6.2)\n",
      "Requirement already satisfied: pandas>=0.24 in /usr/local/lib/python3.9/site-packages (from yfinance) (1.2.1)\n",
      "Requirement already satisfied: requests>=2.20 in /usr/local/lib/python3.9/site-packages (from yfinance) (2.25.1)\n",
      "Requirement already satisfied: multitasking>=0.0.7 in /usr/local/lib/python3.9/site-packages (from yfinance) (0.0.9)\n",
      "Requirement already satisfied: python-dateutil>=2.7.3 in /usr/local/lib/python3.9/site-packages (from pandas>=0.24->yfinance) (2.8.1)\n",
      "Requirement already satisfied: pytz>=2017.3 in /usr/local/lib/python3.9/site-packages (from pandas>=0.24->yfinance) (2021.1)\n",
      "Requirement already satisfied: six>=1.5 in /usr/local/lib/python3.9/site-packages (from python-dateutil>=2.7.3->pandas>=0.24->yfinance) (1.15.0)\n",
      "Requirement already satisfied: idna<3,>=2.5 in /usr/local/lib/python3.9/site-packages (from requests>=2.20->yfinance) (2.10)\n",
      "Requirement already satisfied: chardet<5,>=3.0.2 in /usr/local/lib/python3.9/site-packages (from requests>=2.20->yfinance) (4.0.0)\n",
      "Requirement already satisfied: urllib3<1.27,>=1.21.1 in /usr/local/lib/python3.9/site-packages (from requests>=2.20->yfinance) (1.26.3)\n",
      "Requirement already satisfied: certifi>=2017.4.17 in /usr/local/lib/python3.9/site-packages (from requests>=2.20->yfinance) (2020.12.5)\n",
      "\u001b[33mWARNING: You are using pip version 21.0; however, version 21.0.1 is available.\n",
      "You should consider upgrading via the '/usr/local/opt/python@3.9/bin/python3.9 -m pip install --upgrade pip' command.\u001b[0m\n",
      "Requirement already satisfied: fastapi in /usr/local/lib/python3.9/site-packages (0.63.0)\n",
      "Requirement already satisfied: starlette==0.13.6 in /usr/local/lib/python3.9/site-packages (from fastapi) (0.13.6)\n",
      "Requirement already satisfied: pydantic<2.0.0,>=1.0.0 in /usr/local/lib/python3.9/site-packages (from fastapi) (1.8.1)\n",
      "Requirement already satisfied: typing-extensions>=3.7.4.3 in /usr/local/lib/python3.9/site-packages (from pydantic<2.0.0,>=1.0.0->fastapi) (3.7.4.3)\n",
      "\u001b[33mWARNING: You are using pip version 21.0; however, version 21.0.1 is available.\n",
      "You should consider upgrading via the '/usr/local/opt/python@3.9/bin/python3.9 -m pip install --upgrade pip' command.\u001b[0m\n",
      "Requirement already satisfied: colabcode in /usr/local/lib/python3.9/site-packages (0.2.0)\n",
      "Requirement already satisfied: nest-asyncio==1.4.3 in /usr/local/lib/python3.9/site-packages (from colabcode) (1.4.3)\n",
      "Requirement already satisfied: jupyterlab==3.0.7 in /usr/local/lib/python3.9/site-packages (from colabcode) (3.0.7)\n",
      "Requirement already satisfied: uvicorn==0.13.1 in /usr/local/lib/python3.9/site-packages (from colabcode) (0.13.1)\n",
      "Requirement already satisfied: pyngrok>=5.0.0 in /usr/local/lib/python3.9/site-packages (from colabcode) (5.0.5)\n",
      "Requirement already satisfied: jupyter-server~=1.2 in /usr/local/lib/python3.9/site-packages (from jupyterlab==3.0.7->colabcode) (1.6.2)\n",
      "Requirement already satisfied: ipython in /usr/local/lib/python3.9/site-packages (from jupyterlab==3.0.7->colabcode) (7.22.0)\n",
      "Requirement already satisfied: jupyterlab-server~=2.0 in /usr/local/lib/python3.9/site-packages (from jupyterlab==3.0.7->colabcode) (2.4.0)\n",
      "Requirement already satisfied: tornado>=6.1.0 in /usr/local/lib/python3.9/site-packages (from jupyterlab==3.0.7->colabcode) (6.1)\n",
      "Requirement already satisfied: packaging in /usr/local/lib/python3.9/site-packages (from jupyterlab==3.0.7->colabcode) (20.9)\n",
      "Requirement already satisfied: nbclassic~=0.2 in /usr/local/lib/python3.9/site-packages (from jupyterlab==3.0.7->colabcode) (0.2.7)\n",
      "Requirement already satisfied: jinja2>=2.10 in /usr/local/lib/python3.9/site-packages (from jupyterlab==3.0.7->colabcode) (2.11.3)\n",
      "Requirement already satisfied: jupyter-core in /usr/local/lib/python3.9/site-packages (from jupyterlab==3.0.7->colabcode) (4.7.1)\n",
      "Requirement already satisfied: h11>=0.8 in /usr/local/lib/python3.9/site-packages (from uvicorn==0.13.1->colabcode) (0.12.0)\n",
      "Requirement already satisfied: click==7.* in /usr/local/lib/python3.9/site-packages (from uvicorn==0.13.1->colabcode) (7.1.2)\n",
      "Requirement already satisfied: MarkupSafe>=0.23 in /usr/local/lib/python3.9/site-packages (from jinja2>=2.10->jupyterlab==3.0.7->colabcode) (1.1.1)\n",
      "Requirement already satisfied: nbformat in /usr/local/lib/python3.9/site-packages (from jupyter-server~=1.2->jupyterlab==3.0.7->colabcode) (5.1.3)\n",
      "Requirement already satisfied: traitlets>=4.2.1 in /usr/local/lib/python3.9/site-packages (from jupyter-server~=1.2->jupyterlab==3.0.7->colabcode) (5.0.5)\n",
      "Requirement already satisfied: argon2-cffi in /usr/local/lib/python3.9/site-packages (from jupyter-server~=1.2->jupyterlab==3.0.7->colabcode) (20.1.0)\n",
      "Requirement already satisfied: jupyter-client>=6.1.1 in /usr/local/lib/python3.9/site-packages (from jupyter-server~=1.2->jupyterlab==3.0.7->colabcode) (6.1.12)\n",
      "Requirement already satisfied: Send2Trash in /usr/local/lib/python3.9/site-packages (from jupyter-server~=1.2->jupyterlab==3.0.7->colabcode) (1.5.0)\n",
      "Requirement already satisfied: ipython-genutils in /usr/local/lib/python3.9/site-packages (from jupyter-server~=1.2->jupyterlab==3.0.7->colabcode) (0.2.0)\n",
      "Requirement already satisfied: prometheus-client in /usr/local/lib/python3.9/site-packages (from jupyter-server~=1.2->jupyterlab==3.0.7->colabcode) (0.10.1)\n",
      "Requirement already satisfied: anyio>=2.0.2 in /usr/local/lib/python3.9/site-packages (from jupyter-server~=1.2->jupyterlab==3.0.7->colabcode) (2.2.0)\n",
      "Requirement already satisfied: pyzmq>=17 in /usr/local/lib/python3.9/site-packages (from jupyter-server~=1.2->jupyterlab==3.0.7->colabcode) (22.0.3)\n",
      "Requirement already satisfied: jupyter-packaging~=0.9 in /usr/local/lib/python3.9/site-packages (from jupyter-server~=1.2->jupyterlab==3.0.7->colabcode) (0.9.1)\n",
      "Requirement already satisfied: terminado>=0.8.3 in /usr/local/lib/python3.9/site-packages (from jupyter-server~=1.2->jupyterlab==3.0.7->colabcode) (0.9.4)\n",
      "Requirement already satisfied: nbconvert in /usr/local/lib/python3.9/site-packages (from jupyter-server~=1.2->jupyterlab==3.0.7->colabcode) (6.0.7)\n",
      "Requirement already satisfied: idna>=2.8 in /usr/local/lib/python3.9/site-packages (from anyio>=2.0.2->jupyter-server~=1.2->jupyterlab==3.0.7->colabcode) (2.10)\n",
      "Requirement already satisfied: sniffio>=1.1 in /usr/local/lib/python3.9/site-packages (from anyio>=2.0.2->jupyter-server~=1.2->jupyterlab==3.0.7->colabcode) (1.2.0)\n",
      "Requirement already satisfied: python-dateutil>=2.1 in /usr/local/lib/python3.9/site-packages (from jupyter-client>=6.1.1->jupyter-server~=1.2->jupyterlab==3.0.7->colabcode) (2.8.1)\n",
      "Requirement already satisfied: wheel in /usr/local/lib/python3.9/site-packages (from jupyter-packaging~=0.9->jupyter-server~=1.2->jupyterlab==3.0.7->colabcode) (0.36.2)\n",
      "Requirement already satisfied: setuptools>=49.4.0 in /usr/local/lib/python3.9/site-packages (from jupyter-packaging~=0.9->jupyter-server~=1.2->jupyterlab==3.0.7->colabcode) (51.1.1)\n",
      "Requirement already satisfied: tomlkit in /usr/local/lib/python3.9/site-packages (from jupyter-packaging~=0.9->jupyter-server~=1.2->jupyterlab==3.0.7->colabcode) (0.7.0)\n",
      "Requirement already satisfied: deprecation in /usr/local/lib/python3.9/site-packages (from jupyter-packaging~=0.9->jupyter-server~=1.2->jupyterlab==3.0.7->colabcode) (2.1.0)\n"
     ]
    },
    {
     "name": "stdout",
     "output_type": "stream",
     "text": [
      "Requirement already satisfied: babel in /usr/local/lib/python3.9/site-packages (from jupyterlab-server~=2.0->jupyterlab==3.0.7->colabcode) (2.9.0)\n",
      "Requirement already satisfied: requests in /usr/local/lib/python3.9/site-packages (from jupyterlab-server~=2.0->jupyterlab==3.0.7->colabcode) (2.25.1)\n",
      "Requirement already satisfied: json5 in /usr/local/lib/python3.9/site-packages (from jupyterlab-server~=2.0->jupyterlab==3.0.7->colabcode) (0.9.5)\n",
      "Requirement already satisfied: jsonschema>=3.0.1 in /usr/local/lib/python3.9/site-packages (from jupyterlab-server~=2.0->jupyterlab==3.0.7->colabcode) (3.2.0)\n",
      "Requirement already satisfied: pyrsistent>=0.14.0 in /usr/local/lib/python3.9/site-packages (from jsonschema>=3.0.1->jupyterlab-server~=2.0->jupyterlab==3.0.7->colabcode) (0.17.3)\n",
      "Requirement already satisfied: attrs>=17.4.0 in /usr/local/lib/python3.9/site-packages (from jsonschema>=3.0.1->jupyterlab-server~=2.0->jupyterlab==3.0.7->colabcode) (20.3.0)\n",
      "Requirement already satisfied: six>=1.11.0 in /usr/local/lib/python3.9/site-packages (from jsonschema>=3.0.1->jupyterlab-server~=2.0->jupyterlab==3.0.7->colabcode) (1.15.0)\n",
      "Requirement already satisfied: notebook<7 in /usr/local/lib/python3.9/site-packages (from nbclassic~=0.2->jupyterlab==3.0.7->colabcode) (6.3.0)\n",
      "Requirement already satisfied: ipykernel in /usr/local/lib/python3.9/site-packages (from notebook<7->nbclassic~=0.2->jupyterlab==3.0.7->colabcode) (5.5.3)\n",
      "Requirement already satisfied: PyYAML in /usr/local/lib/python3.9/site-packages (from pyngrok>=5.0.0->colabcode) (5.4.1)\n",
      "Requirement already satisfied: ptyprocess in /usr/local/lib/python3.9/site-packages (from terminado>=0.8.3->jupyter-server~=1.2->jupyterlab==3.0.7->colabcode) (0.7.0)\n",
      "Requirement already satisfied: cffi>=1.0.0 in /usr/local/lib/python3.9/site-packages (from argon2-cffi->jupyter-server~=1.2->jupyterlab==3.0.7->colabcode) (1.14.5)\n",
      "Requirement already satisfied: pycparser in /usr/local/lib/python3.9/site-packages (from cffi>=1.0.0->argon2-cffi->jupyter-server~=1.2->jupyterlab==3.0.7->colabcode) (2.20)\n",
      "Requirement already satisfied: pytz>=2015.7 in /usr/local/lib/python3.9/site-packages (from babel->jupyterlab-server~=2.0->jupyterlab==3.0.7->colabcode) (2021.1)\n",
      "Requirement already satisfied: appnope in /usr/local/lib/python3.9/site-packages (from ipykernel->notebook<7->nbclassic~=0.2->jupyterlab==3.0.7->colabcode) (0.1.2)\n",
      "Requirement already satisfied: pickleshare in /usr/local/lib/python3.9/site-packages (from ipython->jupyterlab==3.0.7->colabcode) (0.7.5)\n",
      "Requirement already satisfied: pygments in /usr/local/lib/python3.9/site-packages (from ipython->jupyterlab==3.0.7->colabcode) (2.8.1)\n",
      "Requirement already satisfied: backcall in /usr/local/lib/python3.9/site-packages (from ipython->jupyterlab==3.0.7->colabcode) (0.2.0)\n",
      "Requirement already satisfied: pexpect>4.3 in /usr/local/lib/python3.9/site-packages (from ipython->jupyterlab==3.0.7->colabcode) (4.8.0)\n",
      "Requirement already satisfied: jedi>=0.16 in /usr/local/lib/python3.9/site-packages (from ipython->jupyterlab==3.0.7->colabcode) (0.18.0)\n",
      "Requirement already satisfied: decorator in /usr/local/lib/python3.9/site-packages (from ipython->jupyterlab==3.0.7->colabcode) (5.0.7)\n",
      "Requirement already satisfied: prompt-toolkit!=3.0.0,!=3.0.1,<3.1.0,>=2.0.0 in /usr/local/lib/python3.9/site-packages (from ipython->jupyterlab==3.0.7->colabcode) (3.0.18)\n",
      "Requirement already satisfied: parso<0.9.0,>=0.8.0 in /usr/local/lib/python3.9/site-packages (from jedi>=0.16->ipython->jupyterlab==3.0.7->colabcode) (0.8.2)\n",
      "Requirement already satisfied: wcwidth in /usr/local/lib/python3.9/site-packages (from prompt-toolkit!=3.0.0,!=3.0.1,<3.1.0,>=2.0.0->ipython->jupyterlab==3.0.7->colabcode) (0.2.5)\n",
      "Requirement already satisfied: testpath in /usr/local/lib/python3.9/site-packages (from nbconvert->jupyter-server~=1.2->jupyterlab==3.0.7->colabcode) (0.4.4)\n",
      "Requirement already satisfied: pandocfilters>=1.4.1 in /usr/local/lib/python3.9/site-packages (from nbconvert->jupyter-server~=1.2->jupyterlab==3.0.7->colabcode) (1.4.3)\n",
      "Requirement already satisfied: bleach in /usr/local/lib/python3.9/site-packages (from nbconvert->jupyter-server~=1.2->jupyterlab==3.0.7->colabcode) (3.3.0)\n",
      "Requirement already satisfied: entrypoints>=0.2.2 in /usr/local/lib/python3.9/site-packages (from nbconvert->jupyter-server~=1.2->jupyterlab==3.0.7->colabcode) (0.3)\n",
      "Requirement already satisfied: mistune<2,>=0.8.1 in /usr/local/lib/python3.9/site-packages (from nbconvert->jupyter-server~=1.2->jupyterlab==3.0.7->colabcode) (0.8.4)\n",
      "Requirement already satisfied: defusedxml in /usr/local/lib/python3.9/site-packages (from nbconvert->jupyter-server~=1.2->jupyterlab==3.0.7->colabcode) (0.7.1)\n",
      "Requirement already satisfied: jupyterlab-pygments in /usr/local/lib/python3.9/site-packages (from nbconvert->jupyter-server~=1.2->jupyterlab==3.0.7->colabcode) (0.1.2)\n",
      "Requirement already satisfied: nbclient<0.6.0,>=0.5.0 in /usr/local/lib/python3.9/site-packages (from nbconvert->jupyter-server~=1.2->jupyterlab==3.0.7->colabcode) (0.5.3)\n",
      "Requirement already satisfied: async-generator in /usr/local/lib/python3.9/site-packages (from nbclient<0.6.0,>=0.5.0->nbconvert->jupyter-server~=1.2->jupyterlab==3.0.7->colabcode) (1.10)\n",
      "Requirement already satisfied: webencodings in /usr/local/lib/python3.9/site-packages (from bleach->nbconvert->jupyter-server~=1.2->jupyterlab==3.0.7->colabcode) (0.5.1)\n",
      "Requirement already satisfied: pyparsing>=2.0.2 in /usr/local/lib/python3.9/site-packages (from packaging->jupyterlab==3.0.7->colabcode) (2.4.7)\n",
      "Requirement already satisfied: urllib3<1.27,>=1.21.1 in /usr/local/lib/python3.9/site-packages (from requests->jupyterlab-server~=2.0->jupyterlab==3.0.7->colabcode) (1.26.3)\n",
      "Requirement already satisfied: chardet<5,>=3.0.2 in /usr/local/lib/python3.9/site-packages (from requests->jupyterlab-server~=2.0->jupyterlab==3.0.7->colabcode) (4.0.0)\n",
      "Requirement already satisfied: certifi>=2017.4.17 in /usr/local/lib/python3.9/site-packages (from requests->jupyterlab-server~=2.0->jupyterlab==3.0.7->colabcode) (2020.12.5)\n",
      "\u001b[33mWARNING: You are using pip version 21.0; however, version 21.0.1 is available.\n",
      "You should consider upgrading via the '/usr/local/opt/python@3.9/bin/python3.9 -m pip install --upgrade pip' command.\u001b[0m\n"
     ]
    }
   ],
   "source": [
    "!pip install nsetools\n",
    "!pip install yfinance\n",
    "!pip install fastapi\n",
    "!pip install colabcode"
   ]
  },
  {
   "cell_type": "code",
   "execution_count": 2,
   "metadata": {
    "id": "pgzyshUaoaCE"
   },
   "outputs": [],
   "source": [
    "from nsetools import Nse"
   ]
  },
  {
   "cell_type": "code",
   "execution_count": 3,
   "metadata": {
    "id": "B6n-9UgLommW"
   },
   "outputs": [],
   "source": [
    "nse = Nse()"
   ]
  },
  {
   "cell_type": "code",
   "execution_count": 4,
   "metadata": {
    "colab": {
     "base_uri": "https://localhost:8080/"
    },
    "id": "9M_GbG-WoorX",
    "outputId": "a7df27cd-71e5-4a30-ab6e-2b0da02c70e2"
   },
   "outputs": [
    {
     "name": "stdout",
     "output_type": "stream",
     "text": [
      "Driver Class for National Stock Exchange (NSE)\n"
     ]
    }
   ],
   "source": [
    "print(nse)"
   ]
  },
  {
   "cell_type": "code",
   "execution_count": 5,
   "metadata": {
    "colab": {
     "base_uri": "https://localhost:8080/"
    },
    "id": "SbadLD2doqsf",
    "outputId": "4aae9b20-246c-4bda-856e-76e44fe48b53"
   },
   "outputs": [
    {
     "data": {
      "text/plain": [
       "1675"
      ]
     },
     "execution_count": 5,
     "metadata": {},
     "output_type": "execute_result"
    }
   ],
   "source": [
    "len(nse.get_stock_codes())"
   ]
  },
  {
   "cell_type": "code",
   "execution_count": 6,
   "metadata": {
    "colab": {
     "base_uri": "https://localhost:8080/"
    },
    "id": "tCzb1kAaoz76",
    "outputId": "bd20d974-ccf1-4b72-88d9-8a7f8e536545"
   },
   "outputs": [
    {
     "name": "stdout",
     "output_type": "stream",
     "text": [
      "1675\n"
     ]
    }
   ],
   "source": [
    "list = nse.get_stock_codes()\n",
    "print(len(list))"
   ]
  },
  {
   "cell_type": "code",
   "execution_count": 7,
   "metadata": {
    "id": "5wmw3dkvpTiT"
   },
   "outputs": [],
   "source": [
    "name = 'grse'\n",
    "# print(nse.get_quote(name))\n",
    "## nsetools price quote doesnt work, everything else does."
   ]
  },
  {
   "cell_type": "code",
   "execution_count": 14,
   "metadata": {
    "colab": {
     "base_uri": "https://localhost:8080/"
    },
    "id": "dpOJnPlnikWY",
    "outputId": "f74a693b-068e-4d46-ab4c-d3a3739b1d39"
   },
   "outputs": [
    {
     "name": "stdout",
     "output_type": "stream",
     "text": [
      "True\n"
     ]
    }
   ],
   "source": [
    "#check if code is valid\n",
    "tushar=\"gland\"\n",
    "print(nse.is_valid_code(tushar))"
   ]
  },
  {
   "cell_type": "code",
   "execution_count": 9,
   "metadata": {
    "id": "9Ofc_FfpjdVF"
   },
   "outputs": [],
   "source": [
    "import yfinance as yf"
   ]
  },
  {
   "cell_type": "code",
   "execution_count": 15,
   "metadata": {
    "colab": {
     "base_uri": "https://localhost:8080/"
    },
    "id": "-eRhUfsDjgVK",
    "outputId": "9e0ea3a0-5ad9-47b1-fa0f-226dd929c2ec"
   },
   "outputs": [
    {
     "data": {
      "text/plain": [
       "2489"
      ]
     },
     "execution_count": 15,
     "metadata": {},
     "output_type": "execute_result"
    }
   ],
   "source": [
    "tushar+=\".ns\"\n",
    "yf.Ticker(tushar).info['regularMarketPrice']"
   ]
  },
  {
   "cell_type": "code",
   "execution_count": 11,
   "metadata": {
    "id": "qC6RaDALlsbw"
   },
   "outputs": [],
   "source": [
    "#WORKING WORKING!!!"
   ]
  },
  {
   "cell_type": "code",
   "execution_count": 17,
   "metadata": {
    "id": "ITBNMJichd-G"
   },
   "outputs": [],
   "source": [
    "from fastapi import FastAPI\n",
    "from colabcode import ColabCode\n",
    "from fastapi.middleware.cors import CORSMiddleware\n"
   ]
  },
  {
   "cell_type": "code",
   "execution_count": 18,
   "metadata": {
    "id": "Q-x5HAmwls60"
   },
   "outputs": [],
   "source": [
    "cc = ColabCode(port=12000, code=False)"
   ]
  },
  {
   "cell_type": "code",
   "execution_count": 19,
   "metadata": {
    "id": "kWhA2-Gglzir"
   },
   "outputs": [],
   "source": [
    "riquardiApp = FastAPI()\n",
    "\n",
    "riquardiApp.add_middleware(\n",
    "    CORSMiddleware,\n",
    "    allow_origins=[\"*\"],\n",
    "    allow_credentials=True,\n",
    "    allow_methods=[\"*\"],\n",
    "    allow_headers=[\"*\"],\n",
    ")\n",
    "\n",
    "@riquardiApp.get(\"/\")\n",
    "async def root_function():\n",
    "  return {\"message\": \"hello, API alive, Root ready\"}\n"
   ]
  },
  {
   "cell_type": "code",
   "execution_count": 22,
   "metadata": {
    "colab": {
     "base_uri": "https://localhost:8080/"
    },
    "id": "FZ_kKBLdmOHu",
    "outputId": "e88d441d-bddb-4009-ce44-7d4c807692d0"
   },
   "outputs": [
    {
     "name": "stdout",
     "output_type": "stream",
     "text": [
      "Authtoken saved to configuration file: /Users/tusharpandey/.ngrok2/ngrok.yml\r\n"
     ]
    }
   ],
   "source": [
    "!ngrok authtoken 1rMTNT6dxewWUvIhYQ6qES35G75_5nm3j9tmcoEukU7CHXr7b"
   ]
  },
  {
   "cell_type": "code",
   "execution_count": 23,
   "metadata": {
    "id": "0DXhMqqmmi4V"
   },
   "outputs": [],
   "source": [
    "@riquardiApp.get(\"/getPrice/{scripName}\")\n",
    "async def scripEnquiry(scripName):\n",
    "  if (nse.is_valid_code(scripName)==True):\n",
    "    scripName+=\".ns\"\n",
    "    return yf.Ticker(scripName).info['regularMarketPrice']\n",
    "  else:\n",
    "    badCodeCrypt=\"0000\"\n",
    "    return badCodeCrypt"
   ]
  },
  {
   "cell_type": "code",
   "execution_count": 24,
   "metadata": {
    "id": "qBhZJOARu4bu"
   },
   "outputs": [],
   "source": [
    "#send query as \n",
    "# http://b96830dd5621.ngrok.io/getPrice/ranasug\n",
    "# replied as [10.75]\n",
    "#upon pasting the odmain to the webpage, change to https from http for the ngrok, sorts mixed-content \n",
    "#things totally"
   ]
  },
  {
   "cell_type": "code",
   "execution_count": null,
   "metadata": {
    "colab": {
     "base_uri": "https://localhost:8080/"
    },
    "id": "ivgBoUbLoqx4",
    "outputId": "10a5e25f-f094-4df1-db53-acb5366e1d86"
   },
   "outputs": [
    {
     "name": "stdout",
     "output_type": "stream",
     "text": [
      "Public URL: NgrokTunnel: \"http://bfca1fe12519.ngrok.io\" -> \"http://localhost:12000\"\n"
     ]
    },
    {
     "name": "stderr",
     "output_type": "stream",
     "text": [
      "INFO:     Started server process [7153]\n",
      "INFO:     Waiting for application startup.\n",
      "INFO:     Application startup complete.\n",
      "INFO:     Uvicorn running on http://127.0.0.1:12000 (Press CTRL+C to quit)\n"
     ]
    },
    {
     "name": "stdout",
     "output_type": "stream",
     "text": [
      "INFO:     2405:201:4006:70a6:fd2a:716c:b442:4706:0 - \"GET /getPrice/CASTEXTECH HTTP/1.1\" 200 OK\n",
      "INFO:     2405:201:4006:70a6:fd2a:716c:b442:4706:0 - \"GET /getPrice/MUKTAARTS HTTP/1.1\" 200 OK\n",
      "INFO:     2405:201:4006:70a6:fd2a:716c:b442:4706:0 - \"GET /getPrice/GAYAHWS HTTP/1.1\" 200 OK\n",
      "INFO:     2405:201:4006:70a6:fd2a:716c:b442:4706:0 - \"GET /getPrice/SITINET HTTP/1.1\" 200 OK\n",
      "INFO:     2405:201:4006:70a6:fd2a:716c:b442:4706:0 - \"GET /getPrice/SITINET HTTP/1.1\" 200 OK\n",
      "INFO:     2405:201:4006:70a6:fd2a:716c:b442:4706:0 - \"GET /getPrice/RADAAN HTTP/1.1\" 200 OK\n",
      "INFO:     2405:201:4006:70a6:fd2a:716c:b442:4706:0 - \"GET /getPrice/HLVLTD HTTP/1.1\" 200 OK\n",
      "INFO:     2405:201:4006:70a6:fd2a:716c:b442:4706:0 - \"GET /getPrice/CINEVISTA HTTP/1.1\" 200 OK\n",
      "INFO:     2405:201:4006:70a6:fd2a:716c:b442:4706:0 - \"GET /getPrice/ONEPOINT HTTP/1.1\" 200 OK\n",
      "INFO:     2405:201:4006:70a6:fd2a:716c:b442:4706:0 - \"GET /getPrice/TI HTTP/1.1\" 200 OK\n",
      "INFO:     2405:201:4006:70a6:fd2a:716c:b442:4706:0 - \"GET /getPrice/AGRITECH HTTP/1.1\" 200 OK\n",
      "INFO:     2405:201:4006:70a6:fd2a:716c:b442:4706:0 - \"GET /getPrice/TWL HTTP/1.1\" 200 OK\n",
      "INFO:     2405:201:4006:70a6:fd2a:716c:b442:4706:0 - \"GET /getPrice/TWL HTTP/1.1\" 200 OK\n",
      "INFO:     2405:201:4006:70a6:fd2a:716c:b442:4706:0 - \"GET /getPrice/IL%26FSTRANS HTTP/1.1\" 200 OK\n",
      "INFO:     2405:201:4006:70a6:fd2a:716c:b442:4706:0 - \"GET /getPrice/BHANDARI HTTP/1.1\" 200 OK\n"
     ]
    }
   ],
   "source": [
    "cc.run_app(app=riquardiApp)"
   ]
  },
  {
   "cell_type": "code",
   "execution_count": null,
   "metadata": {
    "id": "QyrClp1mDqs6"
   },
   "outputs": [],
   "source": []
  }
 ],
 "metadata": {
  "colab": {
   "collapsed_sections": [],
   "name": "nsetoolsAPI",
   "provenance": []
  },
  "kernelspec": {
   "display_name": "Python 3",
   "language": "python",
   "name": "python3"
  },
  "language_info": {
   "codemirror_mode": {
    "name": "ipython",
    "version": 3
   },
   "file_extension": ".py",
   "mimetype": "text/x-python",
   "name": "python",
   "nbconvert_exporter": "python",
   "pygments_lexer": "ipython3",
   "version": "3.9.1"
  }
 },
 "nbformat": 4,
 "nbformat_minor": 1
}
